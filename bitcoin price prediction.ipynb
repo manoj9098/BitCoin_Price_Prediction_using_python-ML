{
 "cells": [
  {
   "cell_type": "code",
   "execution_count": 5,
   "metadata": {},
   "outputs": [],
   "source": [
    "import numpy as np\n",
    "import pandas as pd\n",
    "import matplotlib.pyplot as plt\n",
    "\n",
    "from subprocess import check_output"
   ]
  },
  {
   "cell_type": "code",
   "execution_count": 6,
   "metadata": {},
   "outputs": [
    {
     "data": {
      "text/html": [
       "<div>\n",
       "<style scoped>\n",
       "    .dataframe tbody tr th:only-of-type {\n",
       "        vertical-align: middle;\n",
       "    }\n",
       "\n",
       "    .dataframe tbody tr th {\n",
       "        vertical-align: top;\n",
       "    }\n",
       "\n",
       "    .dataframe thead th {\n",
       "        text-align: right;\n",
       "    }\n",
       "</style>\n",
       "<table border=\"1\" class=\"dataframe\">\n",
       "  <thead>\n",
       "    <tr style=\"text-align: right;\">\n",
       "      <th></th>\n",
       "      <th>Timestamp</th>\n",
       "      <th>Open</th>\n",
       "      <th>High</th>\n",
       "      <th>Low</th>\n",
       "      <th>Close</th>\n",
       "      <th>Volume_(BTC)</th>\n",
       "      <th>Volume_(Currency)</th>\n",
       "      <th>Weighted_Price</th>\n",
       "    </tr>\n",
       "  </thead>\n",
       "  <tbody>\n",
       "    <tr>\n",
       "      <th>0</th>\n",
       "      <td>1417411980</td>\n",
       "      <td>300.0</td>\n",
       "      <td>300.0</td>\n",
       "      <td>300.0</td>\n",
       "      <td>300.0</td>\n",
       "      <td>0.01</td>\n",
       "      <td>3.0</td>\n",
       "      <td>300.0</td>\n",
       "    </tr>\n",
       "    <tr>\n",
       "      <th>1</th>\n",
       "      <td>1417412040</td>\n",
       "      <td>NaN</td>\n",
       "      <td>NaN</td>\n",
       "      <td>NaN</td>\n",
       "      <td>NaN</td>\n",
       "      <td>NaN</td>\n",
       "      <td>NaN</td>\n",
       "      <td>NaN</td>\n",
       "    </tr>\n",
       "    <tr>\n",
       "      <th>2</th>\n",
       "      <td>1417412100</td>\n",
       "      <td>NaN</td>\n",
       "      <td>NaN</td>\n",
       "      <td>NaN</td>\n",
       "      <td>NaN</td>\n",
       "      <td>NaN</td>\n",
       "      <td>NaN</td>\n",
       "      <td>NaN</td>\n",
       "    </tr>\n",
       "    <tr>\n",
       "      <th>3</th>\n",
       "      <td>1417412160</td>\n",
       "      <td>NaN</td>\n",
       "      <td>NaN</td>\n",
       "      <td>NaN</td>\n",
       "      <td>NaN</td>\n",
       "      <td>NaN</td>\n",
       "      <td>NaN</td>\n",
       "      <td>NaN</td>\n",
       "    </tr>\n",
       "    <tr>\n",
       "      <th>4</th>\n",
       "      <td>1417412220</td>\n",
       "      <td>NaN</td>\n",
       "      <td>NaN</td>\n",
       "      <td>NaN</td>\n",
       "      <td>NaN</td>\n",
       "      <td>NaN</td>\n",
       "      <td>NaN</td>\n",
       "      <td>NaN</td>\n",
       "    </tr>\n",
       "  </tbody>\n",
       "</table>\n",
       "</div>"
      ],
      "text/plain": [
       "    Timestamp   Open   High    Low  Close  Volume_(BTC)  Volume_(Currency)  \\\n",
       "0  1417411980  300.0  300.0  300.0  300.0          0.01                3.0   \n",
       "1  1417412040    NaN    NaN    NaN    NaN           NaN                NaN   \n",
       "2  1417412100    NaN    NaN    NaN    NaN           NaN                NaN   \n",
       "3  1417412160    NaN    NaN    NaN    NaN           NaN                NaN   \n",
       "4  1417412220    NaN    NaN    NaN    NaN           NaN                NaN   \n",
       "\n",
       "   Weighted_Price  \n",
       "0           300.0  \n",
       "1             NaN  \n",
       "2             NaN  \n",
       "3             NaN  \n",
       "4             NaN  "
      ]
     },
     "execution_count": 6,
     "metadata": {},
     "output_type": "execute_result"
    }
   ],
   "source": [
    "btc =pd.read_csv(\"C:/Users/manoj/Desktop/project/coinbase.csv\")\n",
    "btc.head()"
   ]
  },
  {
   "cell_type": "code",
   "execution_count": 7,
   "metadata": {},
   "outputs": [
    {
     "data": {
      "text/plain": [
       "<matplotlib.axes._subplots.AxesSubplot at 0x1a3582bc488>"
      ]
     },
     "execution_count": 7,
     "metadata": {},
     "output_type": "execute_result"
    },
    {
     "data": {
      "image/png": "[encoded data removed]",
      "text/plain": [
       "<Figure size 432x288 with 1 Axes>"
      ]
     },
     "metadata": {
      "needs_background": "light"
     },
     "output_type": "display_data"
    }
   ],
   "source": [
    "btc[btc.columns.values] = btc[btc.columns.values].ffill()\n",
    "\n",
    "btc['Open'].plot()"
   ]
  },
  {
   "cell_type": "code",
   "execution_count": 8,
   "metadata": {},
   "outputs": [
    {
     "data": {
      "text/plain": [
       "<matplotlib.axes._subplots.AxesSubplot at 0x1a3020212c8>"
      ]
     },
     "execution_count": 8,
     "metadata": {},
     "output_type": "execute_result"
    },
    {
     "data": {
      "image/png": "[encoded data removed]",
      "text/plain": [
       "<Figure size 432x288 with 1 Axes>"
      ]
     },
     "metadata": {
      "needs_background": "light"
     },
     "output_type": "display_data"
    }
   ],
   "source": [
    "btc['Delta'] = btc['Close'] - btc['Open']\n",
    "\n",
    "btc['Delta'].plot(kind='line')\n"
   ]
  },
  {
   "cell_type": "code",
   "execution_count": 9,
   "metadata": {},
   "outputs": [
    {
     "data": {
      "text/html": [
       "<div>\n",
       "<style scoped>\n",
       "    .dataframe tbody tr th:only-of-type {\n",
       "        vertical-align: middle;\n",
       "    }\n",
       "\n",
       "    .dataframe tbody tr th {\n",
       "        vertical-align: top;\n",
       "    }\n",
       "\n",
       "    .dataframe thead th {\n",
       "        text-align: right;\n",
       "    }\n",
       "</style>\n",
       "<table border=\"1\" class=\"dataframe\">\n",
       "  <thead>\n",
       "    <tr style=\"text-align: right;\">\n",
       "      <th></th>\n",
       "      <th>Timestamp</th>\n",
       "      <th>Open</th>\n",
       "      <th>High</th>\n",
       "      <th>Low</th>\n",
       "      <th>Close</th>\n",
       "      <th>Volume_(BTC)</th>\n",
       "      <th>Volume_(Currency)</th>\n",
       "      <th>Weighted_Price</th>\n",
       "      <th>Delta</th>\n",
       "    </tr>\n",
       "  </thead>\n",
       "  <tbody>\n",
       "    <tr>\n",
       "      <th>1137776</th>\n",
       "      <td>1489179780</td>\n",
       "      <td>1224.98</td>\n",
       "      <td>1225.00</td>\n",
       "      <td>1085.00</td>\n",
       "      <td>1085.00</td>\n",
       "      <td>1041.413142</td>\n",
       "      <td>1.189129e+06</td>\n",
       "      <td>1141.842040</td>\n",
       "      <td>-139.98</td>\n",
       "    </tr>\n",
       "    <tr>\n",
       "      <th>1189737</th>\n",
       "      <td>1492297440</td>\n",
       "      <td>1070.00</td>\n",
       "      <td>1181.95</td>\n",
       "      <td>975.00</td>\n",
       "      <td>1181.95</td>\n",
       "      <td>12.337065</td>\n",
       "      <td>1.321239e+04</td>\n",
       "      <td>1070.950887</td>\n",
       "      <td>111.95</td>\n",
       "    </tr>\n",
       "    <tr>\n",
       "      <th>1449160</th>\n",
       "      <td>1507862820</td>\n",
       "      <td>5850.96</td>\n",
       "      <td>5850.96</td>\n",
       "      <td>5685.00</td>\n",
       "      <td>5699.92</td>\n",
       "      <td>414.289421</td>\n",
       "      <td>2.394037e+06</td>\n",
       "      <td>5778.659110</td>\n",
       "      <td>-151.04</td>\n",
       "    </tr>\n",
       "    <tr>\n",
       "      <th>1478471</th>\n",
       "      <td>1509621480</td>\n",
       "      <td>7332.52</td>\n",
       "      <td>7332.53</td>\n",
       "      <td>7216.50</td>\n",
       "      <td>7216.50</td>\n",
       "      <td>88.778404</td>\n",
       "      <td>6.462688e+05</td>\n",
       "      <td>7279.571722</td>\n",
       "      <td>-116.02</td>\n",
       "    </tr>\n",
       "    <tr>\n",
       "      <th>1478477</th>\n",
       "      <td>1509621840</td>\n",
       "      <td>7148.30</td>\n",
       "      <td>7170.72</td>\n",
       "      <td>7002.12</td>\n",
       "      <td>7033.09</td>\n",
       "      <td>146.906201</td>\n",
       "      <td>1.040698e+06</td>\n",
       "      <td>7084.096405</td>\n",
       "      <td>-115.21</td>\n",
       "    </tr>\n",
       "    <tr>\n",
       "      <th>...</th>\n",
       "      <td>...</td>\n",
       "      <td>...</td>\n",
       "      <td>...</td>\n",
       "      <td>...</td>\n",
       "      <td>...</td>\n",
       "      <td>...</td>\n",
       "      <td>...</td>\n",
       "      <td>...</td>\n",
       "      <td>...</td>\n",
       "    </tr>\n",
       "    <tr>\n",
       "      <th>1926203</th>\n",
       "      <td>1536485400</td>\n",
       "      <td>6242.51</td>\n",
       "      <td>6360.51</td>\n",
       "      <td>6242.50</td>\n",
       "      <td>6351.50</td>\n",
       "      <td>309.875638</td>\n",
       "      <td>1.951396e+06</td>\n",
       "      <td>6297.351306</td>\n",
       "      <td>108.99</td>\n",
       "    </tr>\n",
       "    <tr>\n",
       "      <th>1977837</th>\n",
       "      <td>1539583440</td>\n",
       "      <td>6493.77</td>\n",
       "      <td>6620.00</td>\n",
       "      <td>6493.77</td>\n",
       "      <td>6620.00</td>\n",
       "      <td>622.923052</td>\n",
       "      <td>4.096272e+06</td>\n",
       "      <td>6575.887712</td>\n",
       "      <td>126.23</td>\n",
       "    </tr>\n",
       "    <tr>\n",
       "      <th>2021675</th>\n",
       "      <td>1542213720</td>\n",
       "      <td>5757.67</td>\n",
       "      <td>5769.60</td>\n",
       "      <td>5649.01</td>\n",
       "      <td>5649.02</td>\n",
       "      <td>219.537039</td>\n",
       "      <td>1.254103e+06</td>\n",
       "      <td>5712.490325</td>\n",
       "      <td>-108.65</td>\n",
       "    </tr>\n",
       "    <tr>\n",
       "      <th>2037175</th>\n",
       "      <td>1543143720</td>\n",
       "      <td>3779.10</td>\n",
       "      <td>3899.00</td>\n",
       "      <td>3779.10</td>\n",
       "      <td>3885.95</td>\n",
       "      <td>286.319029</td>\n",
       "      <td>1.096338e+06</td>\n",
       "      <td>3829.079195</td>\n",
       "      <td>106.85</td>\n",
       "    </tr>\n",
       "    <tr>\n",
       "      <th>2053244</th>\n",
       "      <td>1544107860</td>\n",
       "      <td>3586.19</td>\n",
       "      <td>3700.00</td>\n",
       "      <td>3586.19</td>\n",
       "      <td>3688.67</td>\n",
       "      <td>487.104955</td>\n",
       "      <td>1.775818e+06</td>\n",
       "      <td>3645.657858</td>\n",
       "      <td>102.48</td>\n",
       "    </tr>\n",
       "  </tbody>\n",
       "</table>\n",
       "<p>2068 rows × 9 columns</p>\n",
       "</div>"
      ],
      "text/plain": [
       "          Timestamp     Open     High      Low    Close  Volume_(BTC)  \\\n",
       "1137776  1489179780  1224.98  1225.00  1085.00  1085.00   1041.413142   \n",
       "1189737  1492297440  1070.00  1181.95   975.00  1181.95     12.337065   \n",
       "1449160  1507862820  5850.96  5850.96  5685.00  5699.92    414.289421   \n",
       "1478471  1509621480  7332.52  7332.53  7216.50  7216.50     88.778404   \n",
       "1478477  1509621840  7148.30  7170.72  7002.12  7033.09    146.906201   \n",
       "...             ...      ...      ...      ...      ...           ...   \n",
       "1926203  1536485400  6242.51  6360.51  6242.50  6351.50    309.875638   \n",
       "1977837  1539583440  6493.77  6620.00  6493.77  6620.00    622.923052   \n",
       "2021675  1542213720  5757.67  5769.60  5649.01  5649.02    219.537039   \n",
       "2037175  1543143720  3779.10  3899.00  3779.10  3885.95    286.319029   \n",
       "2053244  1544107860  3586.19  3700.00  3586.19  3688.67    487.104955   \n",
       "\n",
       "         Volume_(Currency)  Weighted_Price   Delta  \n",
       "1137776       1.189129e+06     1141.842040 -139.98  \n",
       "1189737       1.321239e+04     1070.950887  111.95  \n",
       "1449160       2.394037e+06     5778.659110 -151.04  \n",
       "1478471       6.462688e+05     7279.571722 -116.02  \n",
       "1478477       1.040698e+06     7084.096405 -115.21  \n",
       "...                    ...             ...     ...  \n",
       "1926203       1.951396e+06     6297.351306  108.99  \n",
       "1977837       4.096272e+06     6575.887712  126.23  \n",
       "2021675       1.254103e+06     5712.490325 -108.65  \n",
       "2037175       1.096338e+06     3829.079195  106.85  \n",
       "2053244       1.775818e+06     3645.657858  102.48  \n",
       "\n",
       "[2068 rows x 9 columns]"
      ]
     },
     "execution_count": 9,
     "metadata": {},
     "output_type": "execute_result"
    }
   ],
   "source": [
    "btc[abs(btc['Delta']) >= 100]"
   ]
  },
  {
   "cell_type": "code",
   "execution_count": 10,
   "metadata": {},
   "outputs": [
    {
     "data": {
      "text/html": [
       "<div>\n",
       "<style scoped>\n",
       "    .dataframe tbody tr th:only-of-type {\n",
       "        vertical-align: middle;\n",
       "    }\n",
       "\n",
       "    .dataframe tbody tr th {\n",
       "        vertical-align: top;\n",
       "    }\n",
       "\n",
       "    .dataframe thead th {\n",
       "        text-align: right;\n",
       "    }\n",
       "</style>\n",
       "<table border=\"1\" class=\"dataframe\">\n",
       "  <thead>\n",
       "    <tr style=\"text-align: right;\">\n",
       "      <th></th>\n",
       "      <th>Timestamp</th>\n",
       "      <th>Open</th>\n",
       "      <th>High</th>\n",
       "      <th>Low</th>\n",
       "      <th>Close</th>\n",
       "      <th>Volume_(BTC)</th>\n",
       "      <th>Volume_(Currency)</th>\n",
       "      <th>Weighted_Price</th>\n",
       "      <th>Delta</th>\n",
       "      <th>to_predict</th>\n",
       "    </tr>\n",
       "  </thead>\n",
       "  <tbody>\n",
       "    <tr>\n",
       "      <th>2099755</th>\n",
       "      <td>1546898520</td>\n",
       "      <td>4006.01</td>\n",
       "      <td>4006.57</td>\n",
       "      <td>4006.00</td>\n",
       "      <td>4006.01</td>\n",
       "      <td>3.382954</td>\n",
       "      <td>13553.433078</td>\n",
       "      <td>4006.390309</td>\n",
       "      <td>0.00</td>\n",
       "      <td>0</td>\n",
       "    </tr>\n",
       "    <tr>\n",
       "      <th>2099756</th>\n",
       "      <td>1546898580</td>\n",
       "      <td>4006.01</td>\n",
       "      <td>4006.57</td>\n",
       "      <td>4006.00</td>\n",
       "      <td>4006.01</td>\n",
       "      <td>0.902164</td>\n",
       "      <td>3614.083169</td>\n",
       "      <td>4006.017233</td>\n",
       "      <td>0.00</td>\n",
       "      <td>0</td>\n",
       "    </tr>\n",
       "    <tr>\n",
       "      <th>2099757</th>\n",
       "      <td>1546898640</td>\n",
       "      <td>4006.01</td>\n",
       "      <td>4006.01</td>\n",
       "      <td>4006.00</td>\n",
       "      <td>4006.01</td>\n",
       "      <td>1.192123</td>\n",
       "      <td>4775.647308</td>\n",
       "      <td>4006.003635</td>\n",
       "      <td>0.00</td>\n",
       "      <td>0</td>\n",
       "    </tr>\n",
       "    <tr>\n",
       "      <th>2099758</th>\n",
       "      <td>1546898700</td>\n",
       "      <td>4006.01</td>\n",
       "      <td>4006.01</td>\n",
       "      <td>4005.50</td>\n",
       "      <td>4005.50</td>\n",
       "      <td>2.699700</td>\n",
       "      <td>10814.241898</td>\n",
       "      <td>4005.719991</td>\n",
       "      <td>-0.51</td>\n",
       "      <td>0</td>\n",
       "    </tr>\n",
       "    <tr>\n",
       "      <th>2099759</th>\n",
       "      <td>1546898760</td>\n",
       "      <td>4005.51</td>\n",
       "      <td>4006.01</td>\n",
       "      <td>4005.51</td>\n",
       "      <td>4005.99</td>\n",
       "      <td>1.752778</td>\n",
       "      <td>7021.183546</td>\n",
       "      <td>4005.745614</td>\n",
       "      <td>0.48</td>\n",
       "      <td>1</td>\n",
       "    </tr>\n",
       "  </tbody>\n",
       "</table>\n",
       "</div>"
      ],
      "text/plain": [
       "          Timestamp     Open     High      Low    Close  Volume_(BTC)  \\\n",
       "2099755  1546898520  4006.01  4006.57  4006.00  4006.01      3.382954   \n",
       "2099756  1546898580  4006.01  4006.57  4006.00  4006.01      0.902164   \n",
       "2099757  1546898640  4006.01  4006.01  4006.00  4006.01      1.192123   \n",
       "2099758  1546898700  4006.01  4006.01  4005.50  4005.50      2.699700   \n",
       "2099759  1546898760  4005.51  4006.01  4005.51  4005.99      1.752778   \n",
       "\n",
       "         Volume_(Currency)  Weighted_Price  Delta  to_predict  \n",
       "2099755       13553.433078     4006.390309   0.00           0  \n",
       "2099756        3614.083169     4006.017233   0.00           0  \n",
       "2099757        4775.647308     4006.003635   0.00           0  \n",
       "2099758       10814.241898     4005.719991  -0.51           0  \n",
       "2099759        7021.183546     4005.745614   0.48           1  "
      ]
     },
     "execution_count": 10,
     "metadata": {},
     "output_type": "execute_result"
    }
   ],
   "source": [
    "def digitize(n):\n",
    "    if n > 0:\n",
    "        return 1\n",
    "    return 0\n",
    "    \n",
    "btc['to_predict'] = btc['Delta'].apply(lambda d: digitize(d))\n",
    "btc.tail()"
   ]
  },
  {
   "cell_type": "code",
   "execution_count": 11,
   "metadata": {},
   "outputs": [],
   "source": [
    "btc_mat =btc.to_numpy()"
   ]
  },
  {
   "cell_type": "code",
   "execution_count": 12,
   "metadata": {},
   "outputs": [],
   "source": [
    "def rolling_window(a, window):\n",
    "\n",
    "    shape = a.shape[:-1] + (a.shape[-1] - window + 1, window)\n",
    "    strides = a.strides + (a.strides[-1],)\n",
    "    return np.lib.stride_tricks.as_strided(a, shape=shape, strides=strides)\n",
    "\n",
    "\n",
    "WINDOW_SIZE = 22"
   ]
  },
  {
   "cell_type": "code",
   "execution_count": 16,
   "metadata": {},
   "outputs": [],
   "source": [
    "X =rolling_window(btc_mat[:,8], WINDOW_SIZE)[:-1,:]"
   ]
  },
  {
   "cell_type": "code",
   "execution_count": 17,
   "metadata": {},
   "outputs": [
    {
     "data": {
      "text/plain": [
       "2099750   -2.53\n",
       "2099751   -3.51\n",
       "2099752    3.08\n",
       "2099753    0.00\n",
       "2099754   -0.56\n",
       "2099755    0.00\n",
       "2099756    0.00\n",
       "2099757    0.00\n",
       "2099758   -0.51\n",
       "2099759    0.48\n",
       "Name: Delta, dtype: float64"
      ]
     },
     "execution_count": 17,
     "metadata": {},
     "output_type": "execute_result"
    }
   ],
   "source": [
    "btc['Delta'].tail(10)"
   ]
  },
  {
   "cell_type": "code",
   "execution_count": 18,
   "metadata": {},
   "outputs": [
    {
     "name": "stdout",
     "output_type": "stream",
     "text": [
      "[[ 0.    0.    0.   ...  0.    0.    0.  ]\n",
      " [ 0.    0.    0.   ...  0.    0.    0.  ]\n",
      " [ 0.    0.    0.   ...  0.    0.    0.  ]\n",
      " ...\n",
      " [-0.01 -0.01 -1.16 ... -0.56  0.    0.  ]\n",
      " [-0.01 -1.16  3.4  ...  0.    0.    0.  ]\n",
      " [-1.16  3.4  -3.15 ...  0.    0.   -0.51]]\n",
      "\n",
      "Shape: (2099738, 22)\n"
     ]
    }
   ],
   "source": [
    "print(\"{0}\\n\\nShape: {1}\".format(X, X.shape))"
   ]
  },
  {
   "cell_type": "code",
   "execution_count": 21,
   "metadata": {},
   "outputs": [
    {
     "name": "stdout",
     "output_type": "stream",
     "text": [
      "[0 0 0 ... 0 0 1]\n",
      "\n",
      "Shape: (2099738,)\n"
     ]
    }
   ],
   "source": [
    "Y = btc['to_predict'].to_numpy()[WINDOW_SIZE:]\n",
    "print(\"{0}\\n\\nShape: {1}\".format(Y, Y.shape))"
   ]
  },
  {
   "cell_type": "code",
   "execution_count": 22,
   "metadata": {},
   "outputs": [],
   "source": [
    "from sklearn.model_selection import train_test_split\n",
    "from sklearn.ensemble import RandomForestClassifier\n",
    "from sklearn.metrics import confusion_matrix\n",
    "from sklearn.metrics import classification_report"
   ]
  },
  {
   "cell_type": "code",
   "execution_count": 23,
   "metadata": {},
   "outputs": [],
   "source": [
    "X_train, X_test, y_train, y_test = train_test_split(X, Y, test_size=0.25, random_state=4284, stratify=Y)"
   ]
  },
  {
   "cell_type": "code",
   "execution_count": 24,
   "metadata": {},
   "outputs": [
    {
     "data": {
      "text/plain": [
       "array([0, 1, 1, 0, 0, 0, 0, 0, 1, 0, 1, 1, 0, 0, 1, 1, 0, 1, 0, 0, 0, 0,\n",
       "       1, 1, 1, 1, 0, 1, 0, 1, 0, 0, 0, 1, 1, 0, 0, 1, 0, 0, 0, 0, 0, 0,\n",
       "       0, 0, 1, 1, 0, 0, 0, 1, 0, 1, 1, 0, 0, 1, 0, 1, 0, 0, 1, 0, 0, 0,\n",
       "       1, 1, 0, 0, 0, 0, 1, 0, 0, 1, 1, 0, 1, 0, 1, 0, 1, 0, 1, 0, 0, 1,\n",
       "       1, 1, 0, 0, 1, 1, 1, 0, 0, 1, 0, 1], dtype=int64)"
      ]
     },
     "execution_count": 24,
     "metadata": {},
     "output_type": "execute_result"
    }
   ],
   "source": [
    "y_test[:100]"
   ]
  },
  {
   "cell_type": "code",
   "execution_count": 25,
   "metadata": {},
   "outputs": [
    {
     "data": {
      "text/plain": [
       "RandomForestClassifier(bootstrap=True, ccp_alpha=0.0, class_weight=None,\n",
       "                       criterion='gini', max_depth=None, max_features='auto',\n",
       "                       max_leaf_nodes=None, max_samples=None,\n",
       "                       min_impurity_decrease=0.0, min_impurity_split=None,\n",
       "                       min_samples_leaf=1, min_samples_split=2,\n",
       "                       min_weight_fraction_leaf=0.0, n_estimators=50,\n",
       "                       n_jobs=None, oob_score=False, random_state=4284,\n",
       "                       verbose=0, warm_start=False)"
      ]
     },
     "execution_count": 25,
     "metadata": {},
     "output_type": "execute_result"
    }
   ],
   "source": [
    "clf =RandomForestClassifier(random_state=4284, n_estimators=50)\n",
    "clf.fit(X_train, y_train)"
   ]
  },
  {
   "cell_type": "code",
   "execution_count": 35,
   "metadata": {},
   "outputs": [],
   "source": [
    "predicted=clf.predict(X_test)"
   ]
  },
  {
   "cell_type": "code",
   "execution_count": 36,
   "metadata": {},
   "outputs": [
    {
     "name": "stdout",
     "output_type": "stream",
     "text": [
      "              precision    recall  f1-score   support\n",
      "\n",
      "           0       0.64      0.81      0.71    313049\n",
      "           1       0.53      0.31      0.39    211886\n",
      "\n",
      "    accuracy                           0.61    524935\n",
      "   macro avg       0.58      0.56      0.55    524935\n",
      "weighted avg       0.59      0.61      0.58    524935\n",
      "\n"
     ]
    }
   ],
   "source": [
    "print(classification_report(y_test, predicted))"
   ]
  },
  {
   "cell_type": "code",
   "execution_count": 37,
   "metadata": {},
   "outputs": [
    {
     "name": "stdout",
     "output_type": "stream",
     "text": [
      "Pred:  0\t\t1\n",
      "[[48.22844733 11.4073171 ]\n",
      " [27.6620915  12.70214407]]\n"
     ]
    }
   ],
   "source": [
    "conf_mat = confusion_matrix(y_test, predicted)\n",
    "\n",
    "# Confusion matrix in percentages\n",
    "pct_conf_mat = conf_mat/np.sum(conf_mat) * 100\n",
    "\n",
    "print(\"Pred:  0\\t\\t1\\n{}\".format(pct_conf_mat))"
   ]
  },
  {
   "cell_type": "code",
   "execution_count": 38,
   "metadata": {},
   "outputs": [],
   "source": [
    "from sklearn.linear_model import LogisticRegression"
   ]
  },
  {
   "cell_type": "code",
   "execution_count": 39,
   "metadata": {},
   "outputs": [],
   "source": [
    "logmodel=LogisticRegression()"
   ]
  },
  {
   "cell_type": "code",
   "execution_count": 42,
   "metadata": {},
   "outputs": [
    {
     "data": {
      "text/plain": [
       "LogisticRegression(C=1.0, class_weight=None, dual=False, fit_intercept=True,\n",
       "                   intercept_scaling=1, l1_ratio=None, max_iter=100,\n",
       "                   multi_class='auto', n_jobs=None, penalty='l2',\n",
       "                   random_state=None, solver='lbfgs', tol=0.0001, verbose=0,\n",
       "                   warm_start=False)"
      ]
     },
     "execution_count": 42,
     "metadata": {},
     "output_type": "execute_result"
    }
   ],
   "source": [
    "logmodel.fit(X_train,y_train)"
   ]
  },
  {
   "cell_type": "code",
   "execution_count": 43,
   "metadata": {},
   "outputs": [],
   "source": [
    "prediction=logmodel.predict(X_test)"
   ]
  },
  {
   "cell_type": "code",
   "execution_count": 44,
   "metadata": {},
   "outputs": [],
   "source": [
    "from sklearn.metrics import confusion_matrix"
   ]
  },
  {
   "cell_type": "code",
   "execution_count": 45,
   "metadata": {},
   "outputs": [
    {
     "data": {
      "text/plain": [
       "array([[312479,    570],\n",
       "       [211122,    764]], dtype=int64)"
      ]
     },
     "execution_count": 45,
     "metadata": {},
     "output_type": "execute_result"
    }
   ],
   "source": [
    "confusion_matrix(y_test,prediction)"
   ]
  },
  {
   "cell_type": "code",
   "execution_count": 46,
   "metadata": {},
   "outputs": [],
   "source": [
    "from sklearn.metrics import accuracy_score"
   ]
  },
  {
   "cell_type": "code",
   "execution_count": 47,
   "metadata": {},
   "outputs": [
    {
     "data": {
      "text/plain": [
       "0.5967272138455237"
      ]
     },
     "execution_count": 47,
     "metadata": {},
     "output_type": "execute_result"
    }
   ],
   "source": [
    "accuracy_score(y_test,prediction)"
   ]
  },
  {
   "cell_type": "code",
   "execution_count": null,
   "metadata": {},
   "outputs": [],
   "source": []
  }
 ],
 "metadata": {
  "kernelspec": {
   "display_name": "Python 3",
   "language": "python",
   "name": "python3"
  },
  "language_info": {
   "codemirror_mode": {
    "name": "ipython",
    "version": 3
   },
   "file_extension": ".py",
   "mimetype": "text/x-python",
   "name": "python",
   "nbconvert_exporter": "python",
   "pygments_lexer": "ipython3",
   "version": "3.7.6"
  }
 },
 "nbformat": 4,
 "nbformat_minor": 4
}
